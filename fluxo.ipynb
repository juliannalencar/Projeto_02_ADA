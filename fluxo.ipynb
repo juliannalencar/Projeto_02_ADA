{
 "cells": [
  {
   "cell_type": "markdown",
   "metadata": {},
   "source": [
    "# Reaproveitar o sistema de restaurante desenvolvido no projeto 01"
   ]
  },
  {
   "cell_type": "markdown",
   "metadata": {},
   "source": [
    "# Estrutura do JSON\n"
   ]
  },
  {
   "cell_type": "code",
   "execution_count": null,
   "metadata": {},
   "outputs": [],
   "source": [
    "{\n",
    "    \"nome\": \"John Doe\",\n",
    "    \"idade\": 30,\n",
    "    \"cidade\": \"Exemploville\",\n",
    "    \"emails\": [\"john.doe@example.com\", \"john@gmail.com\"],\n",
    "    \"ativo\": True,\n",
    "    \"endereco\": {\n",
    "      \"rua\": \"123 Main Street\",\n",
    "      \"cidade\": \"Cidadezinha\",\n",
    "      \"cep\": \"12345-678\"\n",
    "    }\n",
    "  }\n",
    "  "
   ]
  }
 ],
 "metadata": {
  "language_info": {
   "name": "python"
  }
 },
 "nbformat": 4,
 "nbformat_minor": 2
}
