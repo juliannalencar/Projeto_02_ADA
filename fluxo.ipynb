{
 "cells": [
  {
   "cell_type": "markdown",
   "metadata": {},
   "source": [
    "# Reaproveitar o sistema de restaurante desenvolvido no projeto 01"
   ]
  },
  {
   "cell_type": "markdown",
   "metadata": {},
   "source": [
    "# Estrutura do JSON\n"
   ]
  },
  {
   "cell_type": "code",
   "execution_count": null,
   "metadata": {},
   "outputs": [],
   "source": [
    "{\n",
    "    \"1\": {\n",
    "        \"name\": \"1\",\n",
    "        \"cnpj\": \"1\",\n",
    "        \"address\": \"1\",\n",
    "        \"phone\": \"1\",\n",
    "        \"time\": \"1\",\n",
    "        \"menu\": []\n",
    "    },\n",
    "    \"2\": {\n",
    "        \"name\": \"2\",\n",
    "        \"cnpj\": \"2\",\n",
    "        \"address\": \"2\",\n",
    "        \"phone\": \"2\",\n",
    "        \"time\": \"2\",\n",
    "        \"menu\": []\n",
    "    },\n",
    "    \"3\": {\n",
    "        \"name\": \"3\",\n",
    "        \"cnpj\": \"3\",\n",
    "        \"address\": \"3\",\n",
    "        \"phone\": \"3\",\n",
    "        \"time\": \"3\",\n",
    "        \"menu\": []\n",
    "    },\n",
    "    \"4\": {\n",
    "        \"name\": \"4\",\n",
    "        \"cnpj\": \"4\",\n",
    "        \"address\": \"4\",\n",
    "        \"phone\": \"4\",\n",
    "        \"time\": \"4\",\n",
    "        \"menu\": []\n",
    "    },\n",
    "    \"7\": {\n",
    "        \"name\": \"7\",\n",
    "        \"cnpj\": \"7\",\n",
    "        \"address\": \"7\",\n",
    "        \"phone\": \"7\",\n",
    "        \"time\": \"7\",\n",
    "        \"menu\": []\n",
    "    }\n",
    "}"
   ]
  }
 ],
 "metadata": {
  "language_info": {
   "name": "python"
  }
 },
 "nbformat": 4,
 "nbformat_minor": 2
}
